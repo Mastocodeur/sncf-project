{
 "cells": [
  {
   "cell_type": "markdown",
   "id": "b8cbccb1",
   "metadata": {},
   "source": [
    "# Exploration de l'API Gmail"
   ]
  },
  {
   "cell_type": "code",
   "execution_count": 1,
   "id": "6422cdc7",
   "metadata": {},
   "outputs": [],
   "source": [
    "import os\n",
    "import pickle\n",
    "import base64\n",
    "from email.mime.text import MIMEText\n",
    "from google.auth.transport.requests import Request\n",
    "from google_auth_oauthlib.flow import InstalledAppFlow\n",
    "from googleapiclient.discovery import build"
   ]
  },
  {
   "cell_type": "markdown",
   "id": "db9a17cd",
   "metadata": {},
   "source": [
    "## Authentification Gmail (OAuth2)"
   ]
  },
  {
   "cell_type": "code",
   "execution_count": 5,
   "id": "963361e8",
   "metadata": {},
   "outputs": [],
   "source": [
    "SCOPES = ['https://www.googleapis.com/auth/gmail.send']\n",
    "\n",
    "def gmail_authenticate():\n",
    "    creds = None\n",
    "    if os.path.exists('../token.pickle'):\n",
    "        with open('../token.pickle', 'rb') as token:\n",
    "            creds = pickle.load(token)\n",
    "    if not creds or not creds.valid:\n",
    "        if creds and creds.expired and creds.refresh_token:\n",
    "            creds.refresh(Request())\n",
    "        else:\n",
    "            # Attention au port utilisé ici :\n",
    "            flow = InstalledAppFlow.from_client_secrets_file('../credentials.json', SCOPES)\n",
    "            creds = flow.run_local_server(port=8083)\n",
    "        with open('../token.pickle', 'wb') as token:\n",
    "            pickle.dump(creds, token)\n",
    "    return build('gmail', 'v1', credentials=creds)\n"
   ]
  },
  {
   "cell_type": "markdown",
   "id": "2711ab3c",
   "metadata": {},
   "source": [
    "## Envoi d’un e-mail"
   ]
  },
  {
   "cell_type": "code",
   "execution_count": 6,
   "id": "c6606281",
   "metadata": {},
   "outputs": [],
   "source": [
    "def send_email(subject, body, to_email):\n",
    "    service = gmail_authenticate()\n",
    "    message = MIMEText(body)\n",
    "    message['to'] = to_email\n",
    "    message['subject'] = subject\n",
    "    raw_message = {'raw': base64.urlsafe_b64encode(message.as_bytes()).decode()}\n",
    "    message = service.users().messages().send(userId=\"me\", body=raw_message).execute()\n",
    "    print(f\"E-mail envoyé ✅ ID: {message['id']}\")\n"
   ]
  },
  {
   "cell_type": "code",
   "execution_count": null,
   "id": "50fb7d2b",
   "metadata": {},
   "outputs": [
    {
     "name": "stdout",
     "output_type": "stream",
     "text": [
      "E-mail envoyé ✅ ID: 197bd12ee2029ea8\n"
     ]
    }
   ],
   "source": [
    "# Remplacez \"ton_mail\" par votre vrai mail\n",
    "# Je ne laisse pas mon mail ici pour des raisons de sécurité\n",
    "send_email(\"Test Gmail API\", \"Ceci est un test depuis Jupyter avec Gmail API\", \"ton_mail@gmail.com\")"
   ]
  },
  {
   "cell_type": "markdown",
   "id": "f39e7a39",
   "metadata": {},
   "source": [
    "## Erreurs fréquentes"
   ]
  },
  {
   "cell_type": "markdown",
   "id": "886b2313",
   "metadata": {},
   "source": [
    "| ❌ Erreur                                                                 | 💡 Solution                                                                                                                                                             |\n",
    "|--------------------------------------------------------------------------|------------------------------------------------------------------------------------------------------------------------------------------------------------------------|\n",
    "| `redirect_uri_mismatch`                                                 | Ajoute **`http://localhost:8083/`** dans la console Google Cloud : `APIs & Services` → `Identifiants` → `ID client OAuth 2.0` → URI de redirection autorisé            |\n",
    "| `MismatchingStateError`                                                 | Ne pas déclencher l'auth depuis Streamlit. Utilise un **script Python séparé** (`authenticate_gmail.py`) avec `run_local_server()` pour générer le `token.pickle`     |\n",
    "| `access_denied`                                                         | Ton appli est en mode test. **Ajoute ton compte Gmail** dans la liste des **utilisateurs testeurs** dans la console Google Cloud                                      |\n",
    "| `OSError: [Errno 98] Address already in use`                            | Le port utilisé (ex. 8083) est déjà occupé. Essaye un autre port (ex. 8084) **et ajoute aussi ce port dans la liste des URI autorisés dans Google Cloud**             |\n",
    "| Aucun e-mail reçu                                                       | - Vérifie que le **fichier `token.pickle`** a bien été généré  <br> - Que l’adresse email de destination est correcte  <br> - Regarde dans le **dossier Spam**         |\n",
    "| `invalid_request: access_type 'offline*' is not valid`                 | Ne pas ajouter manuellement `access_type=offline*` dans l’URL. Laisser `InstalledAppFlow` gérer automatiquement la demande d’autorisation                             |\n",
    "| `gio: URL: Operation not supported`                                     | Ignore cette erreur : **`gio`** essaie d’ouvrir le navigateur automatiquement. Utilise le lien dans le terminal pour autoriser manuellement                           |"
   ]
  }
 ],
 "metadata": {
  "kernelspec": {
   "display_name": "sncf",
   "language": "python",
   "name": "python3"
  },
  "language_info": {
   "codemirror_mode": {
    "name": "ipython",
    "version": 3
   },
   "file_extension": ".py",
   "mimetype": "text/x-python",
   "name": "python",
   "nbconvert_exporter": "python",
   "pygments_lexer": "ipython3",
   "version": "3.12.3"
  }
 },
 "nbformat": 4,
 "nbformat_minor": 5
}
